{
 "cells": [
  {
   "cell_type": "code",
   "execution_count": 1,
   "metadata": {
    "code_folding": [],
    "collapsed": true
   },
   "outputs": [],
   "source": [
    "from dataloader import load_CIFAR10   #load cifa10data\n",
    "from LogisticRegression import LogisticRegression\n",
    "\n",
    "import numpy as np\n",
    "import matplotlib.pyplot as plt\n",
    "import matplotlib as mpl\n",
    "\n",
    "\n"
   ]
  },
  {
   "cell_type": "code",
   "execution_count": 2,
   "metadata": {
    "collapsed": true
   },
   "outputs": [],
   "source": [
    "def plot(accuracy_per_class, accuracy, color, names):\n",
    "    ind = np.arange(10)\n",
    "    width = 0.5\n",
    "    fig, ax = plt.subplots()\n",
    "    rects = ax.bar(ind, accuracy_per_class, width, color='b')\n",
    "    ax.set_ylabel('Accuracy')\n",
    "    ax.set_title('LR on %s CIFAR-10 accuracy per class, average accuracy = %f' % (color, accuracy))\n",
    "    ax.set_xticks(ind)\n",
    "    ax.set_xticklabels(names, rotation='vertical')\n",
    "    plt.show()\n",
    "\n"
   ]
  },
  {
   "cell_type": "code",
   "execution_count": 3,
   "metadata": {
    "collapsed": true
   },
   "outputs": [],
   "source": [
    "\n",
    "\n",
    "def get_accuracy(predict, yte):\n",
    "    accuracy_per_class = [0.] * 10\n",
    "    for i in range(predict.shape[0]):\n",
    "        if predict[i] == yte[i]:\n",
    "            accuracy_per_class[yte[i]] += 1.\n",
    "    for i in range(10):\n",
    "        accuracy_per_class[i] /= 1000.0\n",
    "    accuracy = np.sum(predict == yte) / 10000.0\n",
    "    return accuracy_per_class, accuracy\n",
    "\n",
    "def pca(xtrain,xtest):\n",
    "    \n",
    "    nPrincipalComponents = 101\n",
    "    data = xtrain\n",
    "    avg = np.mean(data,axis=1).reshape(data.shape[0],1)\n",
    "    data -= avg\n",
    "    \n",
    "    c = np.cov(data.T)\n",
    "    print c.shape\n",
    "    evals,evecs = np.linalg.eig(c)\n",
    "    print data.shape\n",
    "    indices = np.argsort(evals)\n",
    "    indices = indices[::-1]\n",
    "    #indices = indices[:201]\n",
    "    evecs = evecs[:,indices]\n",
    "    evals = evals[indices]\n",
    "    \n",
    "    #Normalise\n",
    "    \n",
    "    #for i in range(np.shape(evecs)[1]):\n",
    "        \n",
    "    x = np.dot(xtrain,evecs[:,:nPrincipalComponents])\n",
    "    \n",
    "    y = np.dot(xtest,evecs[:,:nPrincipalComponents])\n",
    "    \n",
    "    return x,y"
   ]
  },
  {
   "cell_type": "code",
   "execution_count": 4,
   "metadata": {
    "scrolled": true
   },
   "outputs": [
    {
     "name": "stdout",
     "output_type": "stream",
     "text": [
      "(3072, 3072)\n",
      "(50000, 3072)\n"
     ]
    },
    {
     "data": {
      "image/png": "[encoded data removed]",
      "text/plain": [
       "<matplotlib.figure.Figure at 0x7f9dd06b27d0>"
      ]
     },
     "metadata": {},
     "output_type": "display_data"
    }
   ],
   "source": [
    "\n",
    "cifar10_dir ='/home/usr/Downloads/cifar-10-batches-py'\n",
    "             \n",
    "x_train,y_train,x_test,y_test,names = load_CIFAR10(cifar10_dir)\n",
    "\n",
    "\n",
    "x_train = np.reshape(x_train,(x_train.shape[0],-1))\n",
    "x_test  = np.reshape( x_test, (x_test.shape[0],-1))\n",
    "\n",
    "x_train_pca,x_test_pca = pca(x_train,x_test)\n",
    "\n",
    "# find hyperparameters that work best on the validation set\n",
    "validation_accuracies = []\n",
    "\n",
    "  \n",
    "  # use a particular value of k and evaluation on validation data\n",
    "lg = LogisticRegression()\n",
    "lg.train(x_train_pca, y_train)\n",
    "    # here we assume a modified NearestNeighbor class that can take a k as input\n",
    "\n",
    "Yval_predict = lg.predict(x_test_pca)\n",
    "\n",
    "accuracy_per_class, accuracy = get_accuracy(Yval_predict, y_test)\n",
    "\n",
    "plot(accuracy_per_class, accuracy, 'colored', names)\n",
    "#acc = np.mean(Yval_predict[] == y_test[])\n",
    "\n"
   ]
  }
 ],
 "metadata": {
  "kernelspec": {
   "display_name": "Python 2",
   "language": "python",
   "name": "python2"
  },
  "language_info": {
   "codemirror_mode": {
    "name": "ipython",
    "version": 2
   },
   "file_extension": ".py",
   "mimetype": "text/x-python",
   "name": "python",
   "nbconvert_exporter": "python",
   "pygments_lexer": "ipython2",
   "version": "2.7.13"
  }
 },
 "nbformat": 4,
 "nbformat_minor": 2
}
